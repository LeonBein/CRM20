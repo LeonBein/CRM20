{
 "cells": [
  {
   "cell_type": "markdown",
   "metadata": {},
   "source": [
    "## How to use"
   ]
  },
  {
   "cell_type": "code",
   "execution_count": 74,
   "metadata": {},
   "outputs": [],
   "source": [
    "from repoLibrarian import *\n",
    "%aimport repoLibrarian"
   ]
  },
  {
   "cell_type": "code",
   "execution_count": 7,
   "metadata": {},
   "outputs": [
    {
     "data": {
      "text/plain": [
       "['bptlab/scylla.git', 'bptlab/fcm2cpn.git']"
      ]
     },
     "execution_count": 7,
     "metadata": {},
     "output_type": "execute_result"
    }
   ],
   "source": [
    "list(knownRepos())"
   ]
  },
  {
   "cell_type": "code",
   "execution_count": 3,
   "metadata": {},
   "outputs": [
    {
     "name": "stdout",
     "output_type": "stream",
     "text": [
      "False\n",
      "True\n"
     ]
    }
   ],
   "source": [
    "print(hasRepo('bptlab', 'scylla'))\n",
    "print(hasRepo('bptlab', 'fcm2cpn'))"
   ]
  },
  {
   "cell_type": "code",
   "execution_count": 3,
   "metadata": {},
   "outputs": [
    {
     "name": "stdout",
     "output_type": "stream",
     "text": [
      "Repo \"bptlab/scylla\" already exists locally\n"
     ]
    }
   ],
   "source": [
    "user = 'bptlab'\n",
    "project = 'scylla'\n",
    "downloadRepo(user, project)"
   ]
  },
  {
   "cell_type": "code",
   "execution_count": 4,
   "metadata": {},
   "outputs": [
    {
     "name": "stdout",
     "output_type": "stream",
     "text": [
      "Repo \"bptlab/fcm2cpn\" does not exist locally\n"
     ]
    }
   ],
   "source": [
    "deleteRepo('bptlab', 'fcm2cpn')"
   ]
  },
  {
   "cell_type": "code",
   "execution_count": 6,
   "metadata": {},
   "outputs": [
    {
     "name": "stdout",
     "output_type": "stream",
     "text": [
      "Cloned repo \"bptlab/fcm2cpn\"\n"
     ]
    },
    {
     "data": {
      "text/plain": [
       "<git.repo.base.Repo '/mnt/brick/crm20/repos/bptlab/fcm2cpn.git'>"
      ]
     },
     "execution_count": 6,
     "metadata": {},
     "output_type": "execute_result"
    }
   ],
   "source": [
    "getRepo('bptlab', 'fcm2cpn')"
   ]
  },
  {
   "cell_type": "markdown",
   "metadata": {},
   "source": [
    "## Solve the problem that some repos seem to exists but not be accessible"
   ]
  },
  {
   "cell_type": "code",
   "execution_count": 80,
   "metadata": {},
   "outputs": [
    {
     "data": {
      "text/plain": [
       "'./repos/'"
      ]
     },
     "execution_count": 80,
     "metadata": {},
     "output_type": "execute_result"
    }
   ],
   "source": [
    "setReposFolder('./repos/')"
   ]
  },
  {
   "cell_type": "code",
   "execution_count": 83,
   "metadata": {},
   "outputs": [
    {
     "name": "stdout",
     "output_type": "stream",
     "text": [
      "False\n",
      "Could not download repo \"sayems/jbehave-tutorial\": Cmd('git') failed due to: exit code(128)\n",
      "  cmdline: git clone --bare -v https://github.com/sayems/jbehave-tutorial.git ./repos/sayems/jbehave-tutorial.git\n",
      "  stderr: 'Cloning into bare repository './repos/sayems/jbehave-tutorial.git'...\n",
      "fatal: could not read Username for 'https://github.com': No such device or address\n",
      "'\n",
      "Failed to check ('sayems', 'jbehave-tutorial'): Reference at 'refs/heads/master' does not exist\n"
     ]
    },
    {
     "data": {
      "text/plain": [
       "False"
      ]
     },
     "execution_count": 83,
     "metadata": {},
     "output_type": "execute_result"
    }
   ],
   "source": [
    "%aimport repoLibrarian\n",
    "%autoreload 2\n",
    "print(repoLibrarian.hasRepo('sayems', 'jbehave-tutorial'))\n",
    "repoLibrarian.isJavaRepo('sayems', 'jbehave-tutorial')"
   ]
  },
  {
   "cell_type": "code",
   "execution_count": null,
   "metadata": {},
   "outputs": [],
   "source": []
  }
 ],
 "metadata": {
  "kernelspec": {
   "display_name": "Python 3",
   "language": "python",
   "name": "python3"
  },
  "language_info": {
   "codemirror_mode": {
    "name": "ipython",
    "version": 3
   },
   "file_extension": ".py",
   "mimetype": "text/x-python",
   "name": "python",
   "nbconvert_exporter": "python",
   "pygments_lexer": "ipython3",
   "version": "3.8.1"
  }
 },
 "nbformat": 4,
 "nbformat_minor": 4
}
